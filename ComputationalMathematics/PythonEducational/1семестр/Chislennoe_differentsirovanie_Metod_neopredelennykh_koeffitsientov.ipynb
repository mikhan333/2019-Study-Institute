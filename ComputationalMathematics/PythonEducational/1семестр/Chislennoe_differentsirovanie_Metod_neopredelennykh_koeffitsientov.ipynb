{
 "cells": [
  {
   "cell_type": "markdown",
   "metadata": {},
   "source": [
    "# Тест\n",
    "\n",
    "1. Что такое число обусловленности СЛАУ (дать определение)? Как относительная ошибка решения СЛАУ зависит от относительной ошибки входных данных?\n",
    "2. Пусть $z = f(x, y)$, причем величина x получается в результате приближенных измерений с неустранимой погрешностью $\\Delta x = 10^{–3}$ . Пусть при вычислении z нас интересует абсолютная погрешность. С какой разумной точностью (и почему) следует измерять y? $z = x + 10y$"
   ]
  },
  {
   "cell_type": "markdown",
   "metadata": {},
   "source": [
    "## Пример практической задачи по теме\n",
    "\n",
    "На сетке в одномерной области определена сеточная ф-я. Вычислить производную в произвольном узле с максимально возможным порядком точности. Определить порядок точности предложенного метода (наприме, центральная разность) численно."
   ]
  },
  {
   "cell_type": "markdown",
   "metadata": {},
   "source": [
    "## Теоретическое описание метода неопределенных коэффициентов и его программная реализация\n",
    "\n",
    "Пусть в одномерной области $[x_{min}, x_{max}]$ задана равномерная сетка из $N = m + l + 1$ узлов (Равномерная сетка - сетка, расстояние между двумя любыми соседними узлами которой равно постоянному h, где h - сеточный шаг). На этой области определена бесконечно непрерывно дифференцируемая ф-я $f$. Известны значения этой ф-и во всех узлах рассматриваемой сетки $\\{f_i\\}_{i=0}^N$ (говорять, что определена сеточная ф-я - проекция ф-и на сетку). Пусть нас интересует значение производной в некотором узле $j$, слева от которого $l$ узлов, справа $m$. Построим метод максимального порядка точности по значениям функции в сеточных узлах. Для этого представим производную в узле $j$ как сумму значений ф-и во всех узлах, взятых с некоторыми весами:\n",
    "$$\n",
    "f'(x_j) \\approx \\frac{1}{h}\\sum_{k = -l}^m \\alpha_k f(x_j+kh)\n",
    "$$\n",
    "Подберем веса так, чтобы по этим значениям порядок точности был максимальным. Оказывается, что по $N$ точкам можно построить метод $N-1$-го порядка точности."
   ]
  },
  {
   "cell_type": "code",
   "execution_count": null,
   "metadata": {},
   "outputs": [],
   "source": []
  },
  {
   "cell_type": "markdown",
   "metadata": {},
   "source": [
    "Контрольный вопрос: что такое порядок точности метода?"
   ]
  },
  {
   "cell_type": "markdown",
   "metadata": {},
   "source": [
    "Для этого разложим в ряд Тейлора все члены, входящие в суммирование в выбранной аппроксимации (численном приближении), относительно точки $x_j$, сгруппируем члены при одинаковых степенях и приравняем к нулю коэффициенты при степенях ниже N (кроме первой, для нее приравняем к 1). В итоге получим N уравнений относительно N неизвестных."
   ]
  },
  {
   "cell_type": "markdown",
   "metadata": {},
   "source": [
    "Контрольный вопрос: почему в этом случае порядок метода будет $N-1$?"
   ]
  },
  {
   "cell_type": "markdown",
   "metadata": {},
   "source": [
    "В матричном виде получившуюся систему можно представить как $A\\alpha = b$, где $b^T$ = $(0,1,0,...,0)^T$, а матрица A\n",
    "$$\n",
    "A = \\begin{pmatrix} \n",
    "1 & 1 & ... & 1 \\\\\n",
    "-l & -l+1 & ... & m \\\\\n",
    "(-l)^2 & (-l+1)^2 & ... & m^2 \\\\\n",
    "(-l)^3 & (-l+1)^3 & ...  & m^3 \\\\\n",
    "...&...&...&...\\\\\n",
    "\\end{pmatrix}\n",
    "$$"
   ]
  },
  {
   "cell_type": "markdown",
   "metadata": {},
   "source": [
    "Контрольный вопрос: как называется такая матрица? Существует ли единственное решение системы и почему?"
   ]
  },
  {
   "cell_type": "code",
   "execution_count": 5,
   "metadata": {},
   "outputs": [
    {
     "data": {
      "image/png": "[encoded data removed]",
      "text/plain": [
       "<Figure size 432x288 with 1 Axes>"
      ]
     },
     "metadata": {},
     "output_type": "display_data"
    }
   ],
   "source": [
    "#скрипт, который реализует описанный выше алгоритм\n",
    "import numpy as np\n",
    "import numpy.linalg as la\n",
    "from matplotlib import pyplot as plt\n",
    "\n",
    "def par_con(u, l, m, h):\n",
    "    n = u.size\n",
    "    v = np.linspace(-l,m, n)\n",
    "    A = np.fliplr(np.vander(v, v.size)).T\n",
    "    #b = np.zeros(n)\n",
    "    #b[1] = 1\n",
    "    #alpha = la.solve(A,b)\n",
    "    #diff = 1/h*alpha.dot(u.T)\n",
    "    #return diff\n",
    "    par_con = la.cond(A, 1)\n",
    "    return par_con\n",
    "\n",
    "max_p = 30\n",
    "errors = np.zeros(max_p-3)\n",
    "run_p = np.zeros(max_p-3)\n",
    "for p in range(3,30):\n",
    "    run_p[p-3] = p\n",
    "    a = np.pi/3\n",
    "    b = np.pi/2\n",
    "    h = (b-a)/(p-1)\n",
    "    x = np.linspace(a, b, p)\n",
    "    u = np.sin(x) #ищем производную синуса\n",
    "    par = par_con(u, 0, p-1, h)#diff = get_diff(u, 0, p-1, h)\n",
    "    errors[p-3] = par#np.abs(1/2-diff)\n",
    "    \"\"\"print(run_p[p-3], \" \", errors[p-3])\"\"\"\n",
    "\n",
    "fig = plt.figure()\n",
    "ax = fig.gca()\n",
    "ax.plot(run_p, errors,'.-')\n",
    "ax.set_yscale('log')"
   ]
  },
  {
   "cell_type": "code",
   "execution_count": 54,
   "metadata": {
    "collapsed": true
   },
   "outputs": [],
   "source": [
    "#ЗАДАНИЕ 1: написать скрипт, который строит график зависимости абсолютной ошибки от числа узлов\n",
    "#ЗАДАНИЕ 2: написать скрипт, который строит график зависимости числа обусловленности матрицы A системы с ростом ее размерности"
   ]
  },
  {
   "cell_type": "markdown",
   "metadata": {},
   "source": [
    "## Пример задачи на использование метода неопределенных коэффициентов\n",
    "Рассмотрим задачу. \n",
    "\n",
    "Задача: задана табличная ф-я\n",
    "$$\n",
    "\\begin{matrix} \n",
    "x  & -1 & 1 & 2 \\\\\n",
    "f(x) & 5  & 2 & 1 \\\\\n",
    "\\end{matrix}\n",
    "$$\n",
    "\n",
    "Ф-я f(x) во всех узлах задана с абсолютной погрешностью $10^{-1}$. Пусть ф-я f(x) принадлежит классу ф-й: $\\max\\left|f^{(3)}(x)\\right| \\le M_3 = 0.3$. Найти ф-лу вычисления производной в т. $x = -1$ со вторым порядком аппроксимации, вычислить производную в т. x = -1 и оценить точность вычисленного значения производной.\n",
    "\n",
    "Решение:\n",
    "аппроксимационная формула для вычисления первой производной с помощью метода неопределенных коэффициентов будет иметь вид\n",
    "$$\n",
    "f'(x) \\approx \\frac{\\alpha_0 f(x) + \\alpha_1 f(x+2h) + \\alpha_2 f(x + 3h)}{h}\n",
    "$$\n",
    "Решая СЛАУ на неопределенные коэффициенты, получим $$\\alpha_0 = - \\frac{5}{6}, \\alpha_1 = \\frac{3}{2},\\alpha_2 = - \\frac{2}{3}$$.\n",
    "\n",
    "Ошибка входных данных \n",
    "$$\n",
    "\\Delta_{in} = \\frac{\\left|\\alpha_0\\delta_0\\right|+\\left|\\alpha_1\\delta_1\\right|+\\left|\\alpha_2\\delta_2\\right|}{h} = 0.3\n",
    "$$\n",
    "\n",
    "Ошибка метода (через разложением в ряд Тейлора всех членов, входящих в аппроксимацию, относительно $x$):\n",
    "$$\n",
    "\\Delta_{method} = \\frac{\\left|\\alpha_1 f'''(\\xi_1)\\right|\\frac{8 h^3}{6}+\\left|\\alpha_2 f'''(\\xi_2)\\right|\\frac{27 h^3}{6}}{h}\\le M_3 5h^2\n",
    "$$\n",
    "Полная ошибка - сумма ошибки метода и входных данных."
   ]
  },
  {
   "cell_type": "markdown",
   "metadata": {},
   "source": [
    "Контрольный вопрос: как бы учитывалась относительная ошибка входных данных при оценке точности?"
   ]
  },
  {
   "cell_type": "markdown",
   "metadata": {},
   "source": [
    "## Оценка порядка точности метода\n",
    "\n",
    "Рассмотрим метод с порядком точности $p$. Тогда ошибка метода $\\epsilon_h = Ch^p$, где $h$ - сеточный шаг. На сетке с двое меньшим шагом ошибка метода будет $\\epsilon_{h/2} = C_1 \\left(\\frac{h}{2}\\right)^p$. Если шаг h достаточно мелкий (ф-я меняется не очень сильно), то можно считать, что $C \\approx C_1$. Тогда, исключив $C$ из первого равенства за счет второго, можно получить, что\n",
    "$$\n",
    "p = \\log_2 \\frac{\\epsilon_h}{\\epsilon_{h/2}}\n",
    "$$"
   ]
  },
  {
   "cell_type": "code",
   "execution_count": 3,
   "metadata": {},
   "outputs": [
    {
     "data": {
      "image/png": "[encoded data removed]",
      "text/plain": [
       "<Figure size 432x288 with 1 Axes>"
      ]
     },
     "metadata": {},
     "output_type": "display_data"
    }
   ],
   "source": [
    "#ЗАДАНИЕ 3: написать скрипт, который численно будет определять порядок точности метода направленная разность. \n",
    "#Построить график зависимости p от шага сетки\n",
    "import numpy as np\n",
    "import numpy.linalg as la\n",
    "from matplotlib import pyplot as plt\n",
    "import math\n",
    "\n",
    "f = lambda x: np.sin(x)\n",
    "df = lambda x: np.cos(x)\n",
    "\n",
    "x0 = np.pi/4\n",
    "N = 15\n",
    "df_ap = np.zeros(N) \n",
    "h = np.zeros(N)\n",
    "err = np.zeros(N)\n",
    "order = np.zeros(N)\n",
    "for k in range(0, N):\n",
    "    h[k] = 1 / 2**k\n",
    "    df_ap[k] = (f(x0 + h[k]) - f(x0 - h[k])) / (2 * h[k])\n",
    "    err[k] = np.abs(df_ap[k] - df(x0))\n",
    "    if (k>0):\n",
    "        order[k] = math.log(err[k-1]/err[k], 2)\n",
    "\n",
    "fig = plt.figure()\n",
    "ax = fig.gca()\n",
    "ax.plot(h[1:], order[1:],'.-')\n",
    "#ax.set_yscale('log')\n",
    "ax.set_xscale('log')"
   ]
  },
  {
   "cell_type": "markdown",
   "metadata": {},
   "source": [
    "## Использование sympy для дифференцирования ф-й\n",
    "\n",
    "Пакет sympy очень удобный инструмент для символьных вычислений. Рассмотрим пример его использования для дифференцирования:"
   ]
  },
  {
   "cell_type": "code",
   "execution_count": 2,
   "metadata": {},
   "outputs": [
    {
     "name": "stdout",
     "output_type": "stream",
     "text": [
      "Первая производная 2*x*sin(log(x)) + x*cos(log(x))\n",
      "Вторая производная sin(log(x)) + 3*cos(log(x))\n",
      "Третья производная (-3*sin(log(x)) + cos(log(x)))/x\n"
     ]
    },
    {
     "data": {
      "text/plain": [
       "-1.00000000000000"
      ]
     },
     "execution_count": 2,
     "metadata": {},
     "output_type": "execute_result"
    }
   ],
   "source": [
    "#пример взять отсюда https://maths-with-python.readthedocs.io/en/latest/07-sympy.html\n",
    "#еще про sympy можно посмотреть здесь http://www.asmeurer.com/sympy_doc/dev-py3k/tutorial/tutorial.ru.html\n",
    "import sympy as sp\n",
    "import numpy as np\n",
    "\n",
    "x = sp.Symbol('x')\n",
    "\n",
    "expression = x**2*sp.sin(sp.log(x))\n",
    "print('Первая производная', sp.diff(expression, x))\n",
    "print('Вторая производная', sp.diff(expression, x, 2))\n",
    "print('Третья производная', sp.diff(expression, x, 3))\n",
    "\n",
    "expr2 = sp.sin(x)\n",
    "expr2 = sp.diff(expr2, x, 2)\n",
    "expr2.subs(x, np.pi/2) #подстваляем значение и вычисляем символьное выражение"
   ]
  },
  {
   "cell_type": "code",
   "execution_count": null,
   "metadata": {
    "collapsed": true
   },
   "outputs": [],
   "source": []
  }
 ],
 "metadata": {
  "anaconda-cloud": {},
  "kernelspec": {
   "display_name": "Python 3",
   "language": "python",
   "name": "python3"
  },
  "language_info": {
   "codemirror_mode": {
    "name": "ipython",
    "version": 3
   },
   "file_extension": ".py",
   "mimetype": "text/x-python",
   "name": "python",
   "nbconvert_exporter": "python",
   "pygments_lexer": "ipython3",
   "version": "3.6.5"
  }
 },
 "nbformat": 4,
 "nbformat_minor": 1
}

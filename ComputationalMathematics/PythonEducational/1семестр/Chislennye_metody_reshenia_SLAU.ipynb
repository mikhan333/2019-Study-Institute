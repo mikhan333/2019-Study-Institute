{
 "cells": [
  {
   "cell_type": "markdown",
   "metadata": {},
   "source": [
    "# Задача на программирование"
   ]
  },
  {
   "cell_type": "markdown",
   "metadata": {
    "collapsed": true
   },
   "source": [
    "Предложить алгоритм с использованием LU-разложения и найти обратную матрицу с точностью $\\epsilon = 10^{-3}$:\n",
    "$$\n",
    "A = \\begin{pmatrix} \n",
    "1 & 1  & 1 \\\\\n",
    "0 & 1 & 2 \\\\\n",
    "7 & 1 & 4 \\\\\n",
    "\\end{pmatrix}\n",
    "$$\n",
    "Для необходимых оценок использовать первую норму. Сравнить результат со значением, найденным с помощью ф-и numpy.inv."
   ]
  },
  {
   "cell_type": "markdown",
   "metadata": {},
   "source": [
    "# Предварительные сведения"
   ]
  },
  {
   "cell_type": "markdown",
   "metadata": {},
   "source": [
    "Векторные нормы:\n",
    "\n",
    "$||u||_{\\inf} = \\max_i|u_i|$\n",
    "\n",
    "$||u||_1 = \\sum_i |u_i|$\n",
    "\n",
    "$||u||_2 = \\left(\\sum_i |u_i|^2 \\right)^{\\frac{1}{2}}$\n",
    "\n",
    "Матричные нормы:\n",
    "\n",
    "$||A||_{\\inf} = \\max_i \\sum_j |a_{ij}|$\n",
    "\n",
    "$||A||_1 = \\max_j \\sum_i |a_{ij}|$\n",
    "\n",
    "$||A||_2 = \\left(\\max_i \\lambda_i(A A^*) \\right)^{\\frac{1}{2}}$\n",
    "\n",
    "Контрольный вопрос: какова будет вторая норма матрицы, если матрица самосопряженная?"
   ]
  },
  {
   "cell_type": "code",
   "execution_count": 1,
   "metadata": {},
   "outputs": [
    {
     "name": "stdout",
     "output_type": "stream",
     "text": [
      "norm_1 =  5.0\n",
      "norm_2 =  4.8449585245\n",
      "norm_inf =  7.0\n"
     ]
    },
    {
     "data": {
      "text/plain": [
       "array([[0, 0, 1],\n",
       "       [1, 1, 1],\n",
       "       [4, 2, 1]])"
      ]
     },
     "execution_count": 1,
     "metadata": {},
     "output_type": "execute_result"
    }
   ],
   "source": [
    "import numpy as np\n",
    "import numpy.linalg as la\n",
    "\n",
    "A = np.array([[1,2],[3,4]])\n",
    "v = range(0,3)\n",
    "Vander = np.vander(v)\n",
    "print('norm_1 = ', la.norm(Vander, 1))\n",
    "print('norm_2 = ', la.norm(Vander, 2))\n",
    "print('norm_inf = ', la.norm(Vander, np.inf))\n",
    "Vander"
   ]
  },
  {
   "cell_type": "markdown",
   "metadata": {},
   "source": [
    "Обусловленность:\n",
    "$$(A+\\delta A)u = f + \\delta f$$\n",
    "$$\\frac{||\\delta u||}{||u||}\\le \\frac{\\mu}{1-\\mu\\frac{||\\delta A||}{||A||}} \\left(\\frac{||\\delta f||}{||f||}+\\frac{||\\delta A||}{||A||}\\right)$$\n",
    "\n",
    "$\\mu$ - число обусловленности матрицы A, $\\mu(A) = ||A^{-1}||\\cdot||A||$, $\\mu \\ge 1$.\n",
    "\n"
   ]
  },
  {
   "cell_type": "markdown",
   "metadata": {},
   "source": [
    "# Пример проблемы использования метода Гаусса"
   ]
  },
  {
   "cell_type": "code",
   "execution_count": 2,
   "metadata": {},
   "outputs": [
    {
     "name": "stdout",
     "output_type": "stream",
     "text": [
      "mu1 =  16.3937316223\n",
      "mu2 =  16.3937316223\n",
      "u1 =  [ 0.55511151  0.25        0.25      ]\n",
      "u2 =  [ 1.  1.  1.]\n"
     ]
    }
   ],
   "source": [
    "import numpy as np\n",
    "import numpy.linalg as la\n",
    "\n",
    "def gauss( A, b ):\n",
    "    n = b.size\n",
    "    for k in range(0,n-1):\n",
    "        for i in range(k+1,n):\n",
    "            if A[i][k]!=0:\n",
    "                c = A[i][k]/A[k][k]\n",
    "                A[i][k+1:n] = A[i][k+1:n] - c*A[k][k+1:n]\n",
    "                b[i] = b[i] - c*b[k]\n",
    "    for k in range(n-1,-1,-1):\n",
    "        b[k] = (b[k] - np.dot(A[k][k+1:n],b[k+1:n]))/A[k][k];\n",
    "    return b\n",
    "\n",
    "#все числа в представлены как вещественные\n",
    "A1 = np.array([[1e-16, 1., -1.], [-1., 2., -1.], [2., -1., 0.]]);\n",
    "b1 = np.array([0., 0., 1.]);\n",
    "\n",
    "A2 = np.array([[2., -1., 0.], [-1., 2., -1.], [1e-16, 1., -1.]])\n",
    "b2 = np.array([1., 0., 0.])\n",
    "\n",
    "print('mu1 = ', la.cond(A1))\n",
    "print('mu2 = ', la.cond(A2))\n",
    "\n",
    "print('u1 = ', gauss(A1, b1))#la.solve(A1, b1))\n",
    "print('u2 = ', gauss(A2, b2))#la.solve(A2, b2))"
   ]
  },
  {
   "cell_type": "markdown",
   "metadata": {},
   "source": [
    "# Пример задачи на использование метода простой итерации (МПИ)"
   ]
  },
  {
   "cell_type": "markdown",
   "metadata": {},
   "source": [
    "Для СЛАУ $Ax = b$, где $b = (6, -6, 1)^T$ и\n",
    "$$\n",
    "A = \\begin{pmatrix} \n",
    "6 & 0  & 7 \\\\\n",
    "0 & 6 & 6\\\\\n",
    "7 & 6 & 18 \\\\\n",
    "\\end{pmatrix}\n",
    "$$\n",
    "\n",
    "1. вычислить число обусловленности в трех нормах.\n",
    "2. для заданой относительной погрешности правой части $\\frac{||\\delta b||_2}{||b||_2} = 0.01$ найти границы для относительной погрешности $\\frac{||\\delta x||_2}{||x||_2}$ решения системы.\n",
    "3. исследовать на сходимость и оценить скорость сходимости МПИ $x_{k+1} = (E - \\tau A)x_k + \\tau b$ при $\\tau = 0.01$.\n",
    "4. найти оптимальный параметр МПИ $\\tau_{опт}$ и дать оценку сходимости при этом $\\tau_{опт}$.\n",
    "\n",
    "Замечание: заметим, что в данном случае матрица А самосопряженная, поэтому удобно считать вторую норму матрицы. В противном случае можно было бы домножить систему слева на $A^T$.\n",
    "\n",
    "Решение.\n",
    "1. Вычисляется по формулам выше. Во второй норме число обусловленности $\\mu_3 = \\dfrac{\\lambda_{max}(A)}{\\lambda_{min}(A)} = 23$, так как $\\lambda_{max}(A^{-1}) = \\dfrac{1}{\\lambda_{min}(A)}$.\n",
    "2. По формуле, связывающей относительную ошибку, ошибку входных данных и число обусловленности можно получить $\\frac{||\\delta x||_2}{||x||_2} \\le \\mu_2 \\frac{||\\delta b||_2}{||b||_2} = 23\\cdot 0.01 = 0.23$\n",
    "3. Для симметричной матрицы скорость сходимости можно определить как $q = ||B||_2 = ||E - \\tau A||_2 = \\max_i |1 - \\tau \\lambda_i|$. Условие сходимости q < 1 сводится к решению системы:\n",
    "$$\n",
    "\\begin{array}{rcl}\n",
    "{|1 - \\tau \\lambda_{max}|<1} \\\\\n",
    "{|1 - \\tau \\lambda_{min}|<1} \n",
    "\\end{array}\n",
    "$$ \n",
    "решение которой дает условие сходимости $0<\\tau<\\dfrac{2}{\\lambda_{max}}$. Скорость сходимости при $\\tau = 0.01$:\n",
    "$$\n",
    "q = \\max\\left( |1 - 0.01\\cdot 1|, |1 - 0.01\\cdot 6|, |1 - 0.01\\cdot 23|\\right) = 0.99\n",
    "$$\n",
    "4. Для симметричной положительно определенной матрицы оптимальный итерационный параметр \n",
    "$$\n",
    "\\tau_{опт} = \\frac{2}{\\lambda_{max} + \\lambda_{min}} = \\frac{1}{12},\n",
    "$$\n",
    "скорость сходимости \n",
    "$$\n",
    "q = \\frac{\\lambda_{max} - \\lambda_{min}}{\\lambda_{max} + \\lambda_{min}} = \\frac{11}{12}\n",
    "$$\n",
    "\n",
    "Замечание: оптимальный параметр находится из условия $\\min_{\\tau}\\max_i |1 - \\tau \\lambda_i|$ и не учитывает правую часть решаемой системы. Поэтому скорость сходимости при выборе оптимального параметра будет достаточно хорошей, но не наилучшей.\n",
    "\n",
    "Замечание: в методе Гаусса без выбора главного члена при больших размерах матрицы $n$ требуемое число операций для решения системы $\\approx \\frac{2}{3}n^3$, в МПИ $\\approx 2n^2\\cdot I$, где $I$ - число итераций. То есть при $I<\\frac{n}{3}$ МПИ лучше. Обычно $I<<n$.\n",
    "\n",
    "Замечание: погрешность, вносимая в решение из-за конечной разрядности мантиссы не зависит от кол-ва итераций $\\epsilon \\le \\frac{\\delta}{1-q}$."
   ]
  },
  {
   "cell_type": "markdown",
   "metadata": {},
   "source": [
    "# Оценка относительной ошибки решения системы при известной правой части"
   ]
  },
  {
   "cell_type": "markdown",
   "metadata": {},
   "source": [
    "Для СЛАУ $Ax = f$, где $f = (1, f_2)^T$ и\n",
    "$$\n",
    "A = \\begin{pmatrix} \n",
    "2 & 1  \\\\\n",
    "1 & 2 \\\\\n",
    "\\end{pmatrix}\n",
    "$$\n",
    "матрица А задана точно, а правая часть f может иметь погрешность $\\delta f$. Найти такое $f_2$, при котором выполняется неравенство $\\frac{||\\delta x||}{||x||} = \\frac{||\\delta f||}{||f||}$. \n",
    "\n",
    "Решение. \n",
    "Рассмотрим соотношение $\\frac{||\\delta x||}{||x||} \\le \\nu(f) \\frac{||\\delta f||}{||f||}$. Найдем верхнюю грань $\\nu(f)$ по всем возмущения правой части. \n",
    "$$\n",
    "\\nu(f) = \\sup_{\\delta f} \\frac{||\\delta x||}{||x||}\\frac{||f||}{||\\delta f||} = \\frac{||f||}{||u||}||A^{-1}||\n",
    "$$\n",
    "Приравниваем к единицы и получаем соотношение на $f_2$ для выполнения требуемой оценки."
   ]
  },
  {
   "cell_type": "code",
   "execution_count": 5,
   "metadata": {},
   "outputs": [
    {
     "name": "stdout",
     "output_type": "stream",
     "text": [
      "A:\n",
      "[[1 1 1]\n",
      " [0 1 2]\n",
      " [7 1 4]]\n",
      "\n",
      "X:\n",
      "[[ 0.22222222 -0.33333333  0.11111111]\n",
      " [ 1.55555556 -0.33333333 -0.22222222]\n",
      " [-0.77777778  0.66666667  0.11111111]]\n",
      "\n",
      "True invert matrix\n",
      " [[ 0.22222222 -0.33333333  0.11111111]\n",
      " [ 1.55555556 -0.33333333 -0.22222222]\n",
      " [-0.77777778  0.66666667  0.11111111]]\n"
     ]
    }
   ],
   "source": [
    "import scipy\n",
    "import scipy.linalg  \n",
    "\n",
    "import numpy as np\n",
    "import numpy.linalg as la\n",
    "\n",
    "def lu_decomposition(A):\n",
    "    n = len(A)\n",
    "\n",
    "    L = np.zeros((n,n))\n",
    "    U = np.zeros((n,n))\n",
    "                                                                                                                                                                                                                   \n",
    "    for j in range(n):                                                                                                                                                                                                  \n",
    "        L[j][j] = 1.0\n",
    "                                                                                                                                                                                    \n",
    "        for i in range(j+1):\n",
    "            s1 = 0\n",
    "            for k in range(i):\n",
    "                s1 += U[k][j] * L[i][k]\n",
    "            #s1 = sum(U[k][j] * L[i][k] for k in range(i))\n",
    "            U[i][j] = A[i][j] - s1\n",
    "                                                                                                                                                                  \n",
    "        for i in range(j, n):\n",
    "            s2 = 0\n",
    "            for k in range (j):\n",
    "                s2 += U[k][j] * L[i][k]\n",
    "            #s2 = sum(U[k][j] * L[i][k] for k in range(j))\n",
    "            L[i][j] = (A[i][j] - s2) / U[j][j]\n",
    "            \n",
    "    return (L, U)\n",
    "\n",
    "\n",
    "A = scipy.array([ [1, 1, 1], [0, 1, 2], [7, 1, 4] ])\n",
    "P0, L0, U0 = scipy.linalg.lu(A)\n",
    "L, U = lu_decomposition(A)\n",
    "\n",
    "print(\"A:\")\n",
    "print(A)\n",
    "'''\n",
    "print(\"\\nL:\")\n",
    "print(L)\n",
    "print(\"L0:\")\n",
    "print(L0)\n",
    "\n",
    "print(\"\\nU:\")\n",
    "print(U)\n",
    "print(\"U0:\")\n",
    "print(U0)\n",
    "'''\n",
    "\n",
    "N = len(A)\n",
    "X = np.zeros((N,N))\n",
    "for i in range(0, N):\n",
    "    e = np.zeros(N)\n",
    "    e[i] = 1\n",
    "    \n",
    "    y = la.solve(L, e)\n",
    "    x = la.solve(U, y)\n",
    "    \n",
    "    for j in range(0, N):\n",
    "        X[j][i] = x[j]\n",
    "print(\"\\nX:\")\n",
    "print(X)\n",
    "\n",
    "print(\"\\nTrue invert matrix\\n\", la.inv(A))"
   ]
  },
  {
   "cell_type": "code",
   "execution_count": null,
   "metadata": {},
   "outputs": [],
   "source": []
  }
 ],
 "metadata": {
  "anaconda-cloud": {},
  "kernelspec": {
   "display_name": "Python 3",
   "language": "python",
   "name": "python3"
  },
  "language_info": {
   "codemirror_mode": {
    "name": "ipython",
    "version": 3
   },
   "file_extension": ".py",
   "mimetype": "text/x-python",
   "name": "python",
   "nbconvert_exporter": "python",
   "pygments_lexer": "ipython3",
   "version": "3.6.5"
  }
 },
 "nbformat": 4,
 "nbformat_minor": 2
}
